{
 "cells": [
  {
   "cell_type": "code",
   "execution_count": 1,
   "id": "80c82924-b492-4721-9b72-113a89d2920e",
   "metadata": {},
   "outputs": [
    {
     "name": "stdout",
     "output_type": "stream",
     "text": [
      "(CVXPY) Jan 07 08:16:24 PM: Encountered unexpected exception importing solver CVXOPT:\n",
      "ImportError(\"dlopen(/opt/anaconda3/lib/python3.12/site-packages/cvxopt/base.cpython-312-darwin.so, 0x0002): Library not loaded: @rpath/liblapack.3.dylib\\n  Referenced from: <42996129-43CF-3CE3-AEAF-6CE0B43F76A9> /opt/anaconda3/lib/python3.12/site-packages/cvxopt/base.cpython-312-darwin.so\\n  Reason: tried: '/opt/anaconda3/lib/python3.12/site-packages/cvxopt/../../../liblapack.3.dylib' (no such file), '/opt/anaconda3/lib/python3.12/site-packages/cvxopt/../../../liblapack.3.dylib' (no such file), '/opt/anaconda3/bin/../lib/liblapack.3.dylib' (no such file), '/opt/anaconda3/bin/../lib/liblapack.3.dylib' (no such file), '/usr/local/lib/liblapack.3.dylib' (no such file), '/usr/lib/liblapack.3.dylib' (no such file, not in dyld cache)\")\n",
      "(CVXPY) Jan 07 08:16:24 PM: Encountered unexpected exception importing solver GLPK:\n",
      "ImportError(\"dlopen(/opt/anaconda3/lib/python3.12/site-packages/cvxopt/base.cpython-312-darwin.so, 0x0002): Library not loaded: @rpath/liblapack.3.dylib\\n  Referenced from: <42996129-43CF-3CE3-AEAF-6CE0B43F76A9> /opt/anaconda3/lib/python3.12/site-packages/cvxopt/base.cpython-312-darwin.so\\n  Reason: tried: '/opt/anaconda3/lib/python3.12/site-packages/cvxopt/../../../liblapack.3.dylib' (no such file), '/opt/anaconda3/lib/python3.12/site-packages/cvxopt/../../../liblapack.3.dylib' (no such file), '/opt/anaconda3/bin/../lib/liblapack.3.dylib' (no such file), '/opt/anaconda3/bin/../lib/liblapack.3.dylib' (no such file), '/usr/local/lib/liblapack.3.dylib' (no such file), '/usr/lib/liblapack.3.dylib' (no such file, not in dyld cache)\")\n",
      "(CVXPY) Jan 07 08:16:24 PM: Encountered unexpected exception importing solver GLPK_MI:\n",
      "ImportError(\"dlopen(/opt/anaconda3/lib/python3.12/site-packages/cvxopt/base.cpython-312-darwin.so, 0x0002): Library not loaded: @rpath/liblapack.3.dylib\\n  Referenced from: <42996129-43CF-3CE3-AEAF-6CE0B43F76A9> /opt/anaconda3/lib/python3.12/site-packages/cvxopt/base.cpython-312-darwin.so\\n  Reason: tried: '/opt/anaconda3/lib/python3.12/site-packages/cvxopt/../../../liblapack.3.dylib' (no such file), '/opt/anaconda3/lib/python3.12/site-packages/cvxopt/../../../liblapack.3.dylib' (no such file), '/opt/anaconda3/bin/../lib/liblapack.3.dylib' (no such file), '/opt/anaconda3/bin/../lib/liblapack.3.dylib' (no such file), '/usr/local/lib/liblapack.3.dylib' (no such file), '/usr/lib/liblapack.3.dylib' (no such file, not in dyld cache)\")\n"
     ]
    }
   ],
   "source": [
    "import yfinance as yf\n",
    "import numpy as np\n",
    "import pandas as pd\n",
    "from datetime import datetime,timedelta\n",
    "from scipy.optimize import minimize\n",
    "from pypfopt.efficient_frontier import EfficientFrontier\n",
    "from pypfopt import risk_models\n",
    "from pypfopt import expected_returns\n",
    "import matplotlib.pyplot as plt\n",
    "from pypfopt.discrete_allocation import DiscreteAllocation, get_latest_prices"
   ]
  },
  {
   "cell_type": "code",
   "execution_count": 2,
   "id": "375ae8ca-fe84-4ac9-8b11-03fde14d1e66",
   "metadata": {},
   "outputs": [],
   "source": [
    "!pip install PyPortfolioOpt --quiet"
   ]
  },
  {
   "cell_type": "markdown",
   "id": "6b5a5609-257e-4abc-b3ef-3247751042e2",
   "metadata": {},
   "source": [
    "Tickers & Time Range"
   ]
  },
  {
   "cell_type": "code",
   "execution_count": 3,
   "id": "ea90efa9-8cc3-4674-aaa7-a49ed4f571f6",
   "metadata": {},
   "outputs": [],
   "source": [
    "tickers = ['ZOMATO.NS','BHARTIARTL.NS','PAYTM.NS','SWIGGY.NS','NYKAA.NS']"
   ]
  },
  {
   "cell_type": "code",
   "execution_count": 4,
   "id": "77d55fd6-8a47-407a-8569-c8cd61f904b5",
   "metadata": {},
   "outputs": [],
   "source": [
    "end_date = datetime.today()\n",
    "start_date=end_date-timedelta(days=2*365)"
   ]
  },
  {
   "cell_type": "markdown",
   "id": "e8b9e3a2-eeeb-4957-b282-51ff6889245e",
   "metadata": {},
   "source": [
    "Adjusted Close Prices"
   ]
  },
  {
   "cell_type": "code",
   "execution_count": 5,
   "id": "27f139b1-fa80-486c-b165-68cb303bf548",
   "metadata": {},
   "outputs": [],
   "source": [
    "df = pd.DataFrame()"
   ]
  },
  {
   "cell_type": "code",
   "execution_count": 6,
   "id": "85515cc5-4b8b-46b2-a95d-02ba577025d3",
   "metadata": {},
   "outputs": [
    {
     "name": "stderr",
     "output_type": "stream",
     "text": [
      "[*********************100%***********************]  1 of 1 completed\n",
      "[*********************100%***********************]  1 of 1 completed\n",
      "[*********************100%***********************]  1 of 1 completed\n",
      "[*********************100%***********************]  1 of 1 completed\n",
      "[*********************100%***********************]  1 of 1 completed\n"
     ]
    }
   ],
   "source": [
    "for ticker in tickers:\n",
    "    data=yf.download(ticker,start=start_date,end=end_date)\n",
    "    df[ticker] = data['Adj Close']"
   ]
  },
  {
   "cell_type": "code",
   "execution_count": 7,
   "id": "a366a32a-ca92-4c28-9310-a6d2dbb24a6a",
   "metadata": {},
   "outputs": [],
   "source": [
    "# Calculate expected returns and sample covariance\n",
    "mu = expected_returns.mean_historical_return(df,log_returns=True)\n",
    "S = risk_models.sample_cov(df,log_returns=True)"
   ]
  },
  {
   "cell_type": "code",
   "execution_count": 8,
   "id": "56d98142-62c3-4028-897a-c2aef077209c",
   "metadata": {},
   "outputs": [
    {
     "name": "stdout",
     "output_type": "stream",
     "text": [
      "ZOMATO.NS        1.013530\n",
      "BHARTIARTL.NS    0.385021\n",
      "PAYTM.NS         0.128275\n",
      "SWIGGY.NS        0.825807\n",
      "NYKAA.NS         0.000506\n",
      "dtype: float64\n"
     ]
    }
   ],
   "source": [
    "print(mu)"
   ]
  },
  {
   "cell_type": "code",
   "execution_count": 9,
   "id": "23a62e40-9e72-4555-9dde-ca0abdf95e98",
   "metadata": {},
   "outputs": [
    {
     "name": "stdout",
     "output_type": "stream",
     "text": [
      "               ZOMATO.NS  BHARTIARTL.NS  PAYTM.NS  SWIGGY.NS  NYKAA.NS\n",
      "ZOMATO.NS       0.148666       0.010502  0.033150   0.111176  0.039835\n",
      "BHARTIARTL.NS   0.010502       0.041143  0.016808  -0.003616  0.008653\n",
      "PAYTM.NS        0.033150       0.016808  0.320164   0.023525  0.019359\n",
      "SWIGGY.NS       0.111176      -0.003616  0.023525   0.358915  0.032961\n",
      "NYKAA.NS        0.039835       0.008653  0.019359   0.032961  0.122724\n"
     ]
    }
   ],
   "source": [
    "print(S)"
   ]
  },
  {
   "cell_type": "code",
   "execution_count": 10,
   "id": "6b3be4e1-f50a-4d8c-8f6a-444eb34d956c",
   "metadata": {},
   "outputs": [
    {
     "name": "stdout",
     "output_type": "stream",
     "text": [
      "OrderedDict({'ZOMATO.NS': 0.45345, 'BHARTIARTL.NS': 0.5105, 'PAYTM.NS': 0.0, 'SWIGGY.NS': 0.03605, 'NYKAA.NS': 0.0})\n",
      "Expected annual return: 68.6%\n",
      "Annual volatility: 22.4%\n",
      "Sharpe Ratio: 2.75\n"
     ]
    },
    {
     "data": {
      "text/plain": [
       "(0.685908776579707, 0.2238768145429278, 2.7511056821009396)"
      ]
     },
     "execution_count": 10,
     "metadata": {},
     "output_type": "execute_result"
    }
   ],
   "source": [
    "# Optimize for maximal Sharpe ratio\n",
    "ef = EfficientFrontier(mu, S)\n",
    "raw_weights = ef.max_sharpe(risk_free_rate=.07)\n",
    "cleaned_weights = ef.clean_weights()\n",
    "print(cleaned_weights)\n",
    "ef.portfolio_performance(verbose=True,risk_free_rate=.07)"
   ]
  },
  {
   "cell_type": "code",
   "execution_count": 11,
   "id": "43eb807d-8034-4383-8e5e-973a56912c36",
   "metadata": {},
   "outputs": [
    {
     "data": {
      "text/plain": [
       "ZOMATO.NS         252.449997\n",
       "BHARTIARTL.NS    1590.849976\n",
       "PAYTM.NS          983.200012\n",
       "SWIGGY.NS         509.250000\n",
       "NYKAA.NS          172.309998\n",
       "Name: 2025-01-07 00:00:00, dtype: float64"
      ]
     },
     "execution_count": 11,
     "metadata": {},
     "output_type": "execute_result"
    }
   ],
   "source": [
    "latest_prices = get_latest_prices(df)\n",
    "latest_prices"
   ]
  },
  {
   "cell_type": "markdown",
   "id": "34a74987-4c44-481a-af40-712c3947942c",
   "metadata": {},
   "source": [
    "Greedy Allocation"
   ]
  },
  {
   "cell_type": "code",
   "execution_count": 18,
   "id": "2b8b3df5-2b3a-40b1-bcc8-0cf390ec2091",
   "metadata": {},
   "outputs": [
    {
     "name": "stdout",
     "output_type": "stream",
     "text": [
      "Discrete allocation: {'BHARTIARTL.NS': 2, 'ZOMATO.NS': 14, 'SWIGGY.NS': 1}\n",
      "Funds remaining: ₹774.75\n"
     ]
    }
   ],
   "source": [
    "da = DiscreteAllocation(cleaned_weights, latest_prices, total_portfolio_value=8000)\n",
    "allocation, leftover = da.greedy_portfolio()\n",
    "print(\"Discrete allocation:\", allocation)\n",
    "print(\"Funds remaining: ₹{:.2f}\".format(leftover))"
   ]
  },
  {
   "cell_type": "code",
   "execution_count": 19,
   "id": "39a4a4aa-2e53-4713-8024-7978c227b4b6",
   "metadata": {},
   "outputs": [],
   "source": [
    "df = pd.DataFrame(data=allocation.values(),index=allocation.keys())\n",
    "df.columns=['Quantity']\n",
    "\n",
    "df['Investment'] = df.index.map(latest_prices) * df['Quantity']\n",
    "\n",
    "df.reset_index(inplace=True)\n",
    "df.columns = ['Component', 'Quantity', 'Investment']\n",
    "\n",
    "new_row = {'Component': 'Remaining Funds', 'Quantity': 0, 'Investment': 0}\n",
    "\n",
    "df.loc[len(df)] = new_row\n",
    "\n",
    "df.at[df.index[-1], 'Investment'] = leftover"
   ]
  },
  {
   "cell_type": "code",
   "execution_count": 20,
   "id": "5d95e22c-0169-4ec7-8141-3372aa3c6b28",
   "metadata": {},
   "outputs": [
    {
     "data": {
      "text/html": [
       "<div>\n",
       "<style scoped>\n",
       "    .dataframe tbody tr th:only-of-type {\n",
       "        vertical-align: middle;\n",
       "    }\n",
       "\n",
       "    .dataframe tbody tr th {\n",
       "        vertical-align: top;\n",
       "    }\n",
       "\n",
       "    .dataframe thead th {\n",
       "        text-align: right;\n",
       "    }\n",
       "</style>\n",
       "<table border=\"1\" class=\"dataframe\">\n",
       "  <thead>\n",
       "    <tr style=\"text-align: right;\">\n",
       "      <th></th>\n",
       "      <th>Component</th>\n",
       "      <th>Quantity</th>\n",
       "      <th>Investment</th>\n",
       "    </tr>\n",
       "  </thead>\n",
       "  <tbody>\n",
       "    <tr>\n",
       "      <th>0</th>\n",
       "      <td>BHARTIARTL.NS</td>\n",
       "      <td>2</td>\n",
       "      <td>3181.699951</td>\n",
       "    </tr>\n",
       "    <tr>\n",
       "      <th>1</th>\n",
       "      <td>ZOMATO.NS</td>\n",
       "      <td>14</td>\n",
       "      <td>3534.299957</td>\n",
       "    </tr>\n",
       "    <tr>\n",
       "      <th>2</th>\n",
       "      <td>SWIGGY.NS</td>\n",
       "      <td>1</td>\n",
       "      <td>509.250000</td>\n",
       "    </tr>\n",
       "    <tr>\n",
       "      <th>3</th>\n",
       "      <td>Remaining Funds</td>\n",
       "      <td>0</td>\n",
       "      <td>774.750092</td>\n",
       "    </tr>\n",
       "  </tbody>\n",
       "</table>\n",
       "</div>"
      ],
      "text/plain": [
       "         Component  Quantity   Investment\n",
       "0    BHARTIARTL.NS         2  3181.699951\n",
       "1        ZOMATO.NS        14  3534.299957\n",
       "2        SWIGGY.NS         1   509.250000\n",
       "3  Remaining Funds         0   774.750092"
      ]
     },
     "execution_count": 20,
     "metadata": {},
     "output_type": "execute_result"
    }
   ],
   "source": [
    "df"
   ]
  },
  {
   "cell_type": "code",
   "execution_count": 21,
   "id": "c5e6cfc1-e4ea-4ef8-a870-5bf8db8e3ad2",
   "metadata": {},
   "outputs": [
    {
     "data": {
      "image/png": "[encoded data removed]",
      "text/plain": [
       "<Figure size 1200x500 with 1 Axes>"
      ]
     },
     "metadata": {},
     "output_type": "display_data"
    }
   ],
   "source": [
    "plt.figure(figsize=(12,5))\n",
    "plt.bar(x=df['Component'],height=df['Investment'])\n",
    "\n",
    "plt.xlabel('Assets')\n",
    "\n",
    "plt.show()"
   ]
  },
  {
   "cell_type": "markdown",
   "id": "11160aad-525d-46fa-8136-1832366adc89",
   "metadata": {},
   "source": [
    "Integer Allocation"
   ]
  },
  {
   "cell_type": "code",
   "execution_count": 23,
   "id": "7c8cfa44-5537-4edb-801d-08fb2de33205",
   "metadata": {},
   "outputs": [
    {
     "name": "stdout",
     "output_type": "stream",
     "text": [
      "Discrete allocation: {'ZOMATO.NS': 12, 'BHARTIARTL.NS': 3, 'NYKAA.NS': 1}\n",
      "Funds remaining: ₹25.74\n"
     ]
    }
   ],
   "source": [
    "da = DiscreteAllocation(cleaned_weights, latest_prices, total_portfolio_value=8000)\n",
    "allocation, leftover = da.lp_portfolio()\n",
    "print(\"Discrete allocation:\", allocation)\n",
    "print(\"Funds remaining: ₹{:.2f}\".format(leftover))"
   ]
  },
  {
   "cell_type": "code",
   "execution_count": 24,
   "id": "ee1f0088-0233-4b6c-99f1-1a1907f9deee",
   "metadata": {},
   "outputs": [],
   "source": [
    "df = pd.DataFrame(data=allocation.values(),index=allocation.keys())\n",
    "df.columns=['Quantity']\n",
    "\n",
    "df['Investment'] = df.index.map(latest_prices) * df['Quantity']\n",
    "\n",
    "df.reset_index(inplace=True)\n",
    "df.columns = ['Component', 'Quantity', 'Investment']\n",
    "\n",
    "new_row = {'Component': 'Remaining Funds', 'Quantity': 0, 'Investment': 0}\n",
    "\n",
    "df.loc[len(df)] = new_row\n",
    "\n",
    "df.at[df.index[-1], 'Investment'] = leftover"
   ]
  },
  {
   "cell_type": "code",
   "execution_count": 25,
   "id": "996cd385-fe3d-4454-bf20-7c747325f9d6",
   "metadata": {},
   "outputs": [
    {
     "data": {
      "text/html": [
       "<div>\n",
       "<style scoped>\n",
       "    .dataframe tbody tr th:only-of-type {\n",
       "        vertical-align: middle;\n",
       "    }\n",
       "\n",
       "    .dataframe tbody tr th {\n",
       "        vertical-align: top;\n",
       "    }\n",
       "\n",
       "    .dataframe thead th {\n",
       "        text-align: right;\n",
       "    }\n",
       "</style>\n",
       "<table border=\"1\" class=\"dataframe\">\n",
       "  <thead>\n",
       "    <tr style=\"text-align: right;\">\n",
       "      <th></th>\n",
       "      <th>Component</th>\n",
       "      <th>Quantity</th>\n",
       "      <th>Investment</th>\n",
       "    </tr>\n",
       "  </thead>\n",
       "  <tbody>\n",
       "    <tr>\n",
       "      <th>0</th>\n",
       "      <td>ZOMATO.NS</td>\n",
       "      <td>12</td>\n",
       "      <td>3029.399963</td>\n",
       "    </tr>\n",
       "    <tr>\n",
       "      <th>1</th>\n",
       "      <td>BHARTIARTL.NS</td>\n",
       "      <td>3</td>\n",
       "      <td>4772.549927</td>\n",
       "    </tr>\n",
       "    <tr>\n",
       "      <th>2</th>\n",
       "      <td>NYKAA.NS</td>\n",
       "      <td>1</td>\n",
       "      <td>172.309998</td>\n",
       "    </tr>\n",
       "    <tr>\n",
       "      <th>3</th>\n",
       "      <td>Remaining Funds</td>\n",
       "      <td>0</td>\n",
       "      <td>25.740112</td>\n",
       "    </tr>\n",
       "  </tbody>\n",
       "</table>\n",
       "</div>"
      ],
      "text/plain": [
       "         Component  Quantity   Investment\n",
       "0        ZOMATO.NS        12  3029.399963\n",
       "1    BHARTIARTL.NS         3  4772.549927\n",
       "2         NYKAA.NS         1   172.309998\n",
       "3  Remaining Funds         0    25.740112"
      ]
     },
     "execution_count": 25,
     "metadata": {},
     "output_type": "execute_result"
    }
   ],
   "source": [
    "df"
   ]
  },
  {
   "cell_type": "code",
   "execution_count": 26,
   "id": "3b6af1d0-b9a5-4d68-9148-bf013a3a0fe8",
   "metadata": {},
   "outputs": [
    {
     "data": {
      "image/png": "[encoded data removed]",
      "text/plain": [
       "<Figure size 1200x500 with 1 Axes>"
      ]
     },
     "metadata": {},
     "output_type": "display_data"
    }
   ],
   "source": [
    "plt.figure(figsize=(12,5))\n",
    "plt.bar(x=df['Component'],height=df['Investment'])\n",
    "\n",
    "plt.xlabel('Assets')\n",
    "\n",
    "plt.show()"
   ]
  },
  {
   "cell_type": "code",
   "execution_count": null,
   "id": "0fbfb3a9-54b1-4f87-a932-92b88e25f280",
   "metadata": {},
   "outputs": [],
   "source": []
  }
 ],
 "metadata": {
  "kernelspec": {
   "display_name": "Python 3 (ipykernel)",
   "language": "python",
   "name": "python3"
  },
  "language_info": {
   "codemirror_mode": {
    "name": "ipython",
    "version": 3
   },
   "file_extension": ".py",
   "mimetype": "text/x-python",
   "name": "python",
   "nbconvert_exporter": "python",
   "pygments_lexer": "ipython3",
   "version": "3.12.2"
  }
 },
 "nbformat": 4,
 "nbformat_minor": 5
}
