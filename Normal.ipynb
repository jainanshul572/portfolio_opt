{
 "cells": [
  {
   "cell_type": "code",
   "execution_count": 1,
   "id": "5c037288-b6e4-4324-8da0-8be2a2a3a9fb",
   "metadata": {},
   "outputs": [],
   "source": [
    "import yfinance as yf\n",
    "import numpy as np\n",
    "import pandas as pd\n",
    "from datetime import datetime,timedelta\n",
    "from scipy.optimize import minimize"
   ]
  },
  {
   "cell_type": "markdown",
   "id": "85c329bb-a11c-4004-8a47-ec40cf6b436c",
   "metadata": {},
   "source": [
    "Tickers & Time Range"
   ]
  },
  {
   "cell_type": "code",
   "execution_count": 2,
   "id": "608598fe-66a5-473d-a03f-ee81e4174b86",
   "metadata": {},
   "outputs": [],
   "source": [
    "tickers = ['ZOMATO.NS','BHARTIARTL.NS','PAYTM.NS','SWIGGY.NS','NYKAA.NS']"
   ]
  },
  {
   "cell_type": "code",
   "execution_count": 3,
   "id": "f809a4e4-0577-4295-a11f-a4a4a80ae21e",
   "metadata": {},
   "outputs": [],
   "source": [
    "end_date = datetime.today()"
   ]
  },
  {
   "cell_type": "code",
   "execution_count": 4,
   "id": "2d86ba44-f5f4-4710-b47c-48c57c25936e",
   "metadata": {},
   "outputs": [],
   "source": [
    "start_date=end_date-timedelta(days=2*365)"
   ]
  },
  {
   "cell_type": "markdown",
   "id": "f6308d64-d6f8-4d90-8a58-f7c6b1cdb9d7",
   "metadata": {},
   "source": [
    "Adjusted Close Prices"
   ]
  },
  {
   "cell_type": "code",
   "execution_count": 5,
   "id": "9ded00bc-eeb9-49ca-8592-935ef7e594a1",
   "metadata": {},
   "outputs": [],
   "source": [
    "adj_close_df = pd.DataFrame()"
   ]
  },
  {
   "cell_type": "code",
   "execution_count": 6,
   "id": "5e6df7c8-7af4-4ba0-8385-3e19cf10c283",
   "metadata": {},
   "outputs": [
    {
     "name": "stderr",
     "output_type": "stream",
     "text": [
      "[*********************100%***********************]  1 of 1 completed\n",
      "[*********************100%***********************]  1 of 1 completed\n",
      "[*********************100%***********************]  1 of 1 completed\n",
      "[*********************100%***********************]  1 of 1 completed\n",
      "[*********************100%***********************]  1 of 1 completed\n"
     ]
    }
   ],
   "source": [
    "for ticker in tickers:\n",
    "    data=yf.download(ticker,start=start_date,end=end_date)\n",
    "    adj_close_df[ticker] = data['Adj Close']"
   ]
  },
  {
   "cell_type": "code",
   "execution_count": 7,
   "id": "fab43b17-9314-4595-b74a-116da8dd8a63",
   "metadata": {},
   "outputs": [
    {
     "name": "stdout",
     "output_type": "stream",
     "text": [
      "             ZOMATO.NS  BHARTIARTL.NS    PAYTM.NS   SWIGGY.NS    NYKAA.NS\n",
      "Date                                                                     \n",
      "2023-01-09   56.000000     811.133057  563.900024         NaN  152.949997\n",
      "2023-01-10   54.700001     784.850891  575.549988         NaN  150.500000\n",
      "2023-01-11   54.349998     757.826355  579.150024         NaN  155.100006\n",
      "2023-01-12   53.750000     749.263611  543.200012         NaN  149.800003\n",
      "2023-01-13   53.250000     756.588928  560.099976         NaN  147.600006\n",
      "...                ...            ...         ...         ...         ...\n",
      "2025-01-01  276.500000    1595.699951  987.599976  542.349976  164.679993\n",
      "2025-01-02  284.600006    1609.699951  982.400024  556.450012  165.320007\n",
      "2025-01-03  272.850006    1598.849976  982.799988  541.450012  167.839996\n",
      "2025-01-06  264.850006    1588.449951  969.049988  532.099976  171.520004\n",
      "2025-01-07  252.449997    1590.849976  983.200012  509.250000  172.309998\n",
      "\n",
      "[491 rows x 5 columns]\n"
     ]
    }
   ],
   "source": [
    "print(adj_close_df)"
   ]
  },
  {
   "cell_type": "markdown",
   "id": "732f3e57-25b7-4b44-b900-64ad5a77a626",
   "metadata": {},
   "source": [
    "Calculating Log-Normal Returns"
   ]
  },
  {
   "cell_type": "code",
   "execution_count": 8,
   "id": "dc71aed7-eabe-4d96-9372-addf236c7839",
   "metadata": {},
   "outputs": [],
   "source": [
    "log_returns = np.log(adj_close_df/adj_close_df.shift(1))"
   ]
  },
  {
   "cell_type": "code",
   "execution_count": 9,
   "id": "317dc884-47d5-4150-9181-c3968e9025af",
   "metadata": {},
   "outputs": [],
   "source": [
    "log_returns = log_returns.dropna()"
   ]
  },
  {
   "cell_type": "markdown",
   "id": "a059f4ac-dc09-4ecc-9798-766ff4e4f668",
   "metadata": {},
   "source": [
    "Covariance Matrix"
   ]
  },
  {
   "cell_type": "code",
   "execution_count": 10,
   "id": "e137ab54-afb3-46e7-9503-2aed3e489b48",
   "metadata": {},
   "outputs": [],
   "source": [
    "cov_matrix = log_returns.cov()*252"
   ]
  },
  {
   "cell_type": "code",
   "execution_count": 11,
   "id": "e89f344a-4d3d-4cdf-9410-71f6d45aca93",
   "metadata": {},
   "outputs": [
    {
     "data": {
      "text/html": [
       "<div>\n",
       "<style scoped>\n",
       "    .dataframe tbody tr th:only-of-type {\n",
       "        vertical-align: middle;\n",
       "    }\n",
       "\n",
       "    .dataframe tbody tr th {\n",
       "        vertical-align: top;\n",
       "    }\n",
       "\n",
       "    .dataframe thead th {\n",
       "        text-align: right;\n",
       "    }\n",
       "</style>\n",
       "<table border=\"1\" class=\"dataframe\">\n",
       "  <thead>\n",
       "    <tr style=\"text-align: right;\">\n",
       "      <th></th>\n",
       "      <th>ZOMATO.NS</th>\n",
       "      <th>BHARTIARTL.NS</th>\n",
       "      <th>PAYTM.NS</th>\n",
       "      <th>SWIGGY.NS</th>\n",
       "      <th>NYKAA.NS</th>\n",
       "    </tr>\n",
       "  </thead>\n",
       "  <tbody>\n",
       "    <tr>\n",
       "      <th>ZOMATO.NS</th>\n",
       "      <td>0.137507</td>\n",
       "      <td>-0.004643</td>\n",
       "      <td>0.031015</td>\n",
       "      <td>0.111176</td>\n",
       "      <td>0.011118</td>\n",
       "    </tr>\n",
       "    <tr>\n",
       "      <th>BHARTIARTL.NS</th>\n",
       "      <td>-0.004643</td>\n",
       "      <td>0.058612</td>\n",
       "      <td>0.004685</td>\n",
       "      <td>-0.003616</td>\n",
       "      <td>-0.017028</td>\n",
       "    </tr>\n",
       "    <tr>\n",
       "      <th>PAYTM.NS</th>\n",
       "      <td>0.031015</td>\n",
       "      <td>0.004685</td>\n",
       "      <td>0.127416</td>\n",
       "      <td>0.023525</td>\n",
       "      <td>0.003323</td>\n",
       "    </tr>\n",
       "    <tr>\n",
       "      <th>SWIGGY.NS</th>\n",
       "      <td>0.111176</td>\n",
       "      <td>-0.003616</td>\n",
       "      <td>0.023525</td>\n",
       "      <td>0.358915</td>\n",
       "      <td>0.032961</td>\n",
       "    </tr>\n",
       "    <tr>\n",
       "      <th>NYKAA.NS</th>\n",
       "      <td>0.011118</td>\n",
       "      <td>-0.017028</td>\n",
       "      <td>0.003323</td>\n",
       "      <td>0.032961</td>\n",
       "      <td>0.066417</td>\n",
       "    </tr>\n",
       "  </tbody>\n",
       "</table>\n",
       "</div>"
      ],
      "text/plain": [
       "               ZOMATO.NS  BHARTIARTL.NS  PAYTM.NS  SWIGGY.NS  NYKAA.NS\n",
       "ZOMATO.NS       0.137507      -0.004643  0.031015   0.111176  0.011118\n",
       "BHARTIARTL.NS  -0.004643       0.058612  0.004685  -0.003616 -0.017028\n",
       "PAYTM.NS        0.031015       0.004685  0.127416   0.023525  0.003323\n",
       "SWIGGY.NS       0.111176      -0.003616  0.023525   0.358915  0.032961\n",
       "NYKAA.NS        0.011118      -0.017028  0.003323   0.032961  0.066417"
      ]
     },
     "execution_count": 11,
     "metadata": {},
     "output_type": "execute_result"
    }
   ],
   "source": [
    "cov_matrix"
   ]
  },
  {
   "cell_type": "markdown",
   "id": "c0c978b7-e94e-4e11-807d-f87cd701ad43",
   "metadata": {},
   "source": [
    "Portfolio Performance Metrics"
   ]
  },
  {
   "cell_type": "markdown",
   "id": "68e41f7a-7bdd-457e-a039-a57ac4007a2c",
   "metadata": {},
   "source": [
    "Portfolio st. dev"
   ]
  },
  {
   "cell_type": "code",
   "execution_count": 12,
   "id": "294cc776-297f-465b-aa33-dd30faa99b71",
   "metadata": {},
   "outputs": [],
   "source": [
    "def standard_deviation (weights, cov_matrix):\n",
    "    variance = weights.T @ cov_matrix @ weights\n",
    "    return np.sqrt(variance)"
   ]
  },
  {
   "cell_type": "markdown",
   "id": "f734fc0d-09c5-4a2e-9e95-a27edba8d7bb",
   "metadata": {},
   "source": [
    "Expected Return"
   ]
  },
  {
   "cell_type": "code",
   "execution_count": 13,
   "id": "7524ce80-7fca-4487-b0a1-e2312d3bcd50",
   "metadata": {},
   "outputs": [],
   "source": [
    "def expected_return (weights, log_returns):\n",
    "    return np.sum(log_returns.mean()*weights)*252"
   ]
  },
  {
   "cell_type": "markdown",
   "id": "1085b930-a0b3-43f4-92fb-98002a9e53b6",
   "metadata": {},
   "source": [
    "Sharpe Ratio"
   ]
  },
  {
   "cell_type": "code",
   "execution_count": 14,
   "id": "c3b7c0ae-a3a9-48a5-b950-0b427c23fcff",
   "metadata": {},
   "outputs": [],
   "source": [
    "def sharpe_ratio (weights, log_returns, cov_matrix, risk_free_rate):\n",
    "    return (expected_return(weights, log_returns) - risk_free_rate) / standard_deviation (weights, cov_matrix)"
   ]
  },
  {
   "cell_type": "markdown",
   "id": "3f3e0c34-bf47-4893-864b-f2ea2dd0314a",
   "metadata": {},
   "source": [
    "Portfolio Optimization"
   ]
  },
  {
   "cell_type": "markdown",
   "id": "c6111003-2135-48d0-8586-d82ce61a8e78",
   "metadata": {},
   "source": [
    "Risk Free Rate"
   ]
  },
  {
   "cell_type": "code",
   "execution_count": 15,
   "id": "cf073cc5-68e7-4b94-a243-02debad511b2",
   "metadata": {},
   "outputs": [],
   "source": [
    "#risk free rate 7%\n",
    "risk_free_rate = .07"
   ]
  },
  {
   "cell_type": "markdown",
   "id": "dab3acf0-ae47-46cc-99ef-aa710eb97c22",
   "metadata": {},
   "source": [
    "Neg Sharpe Ratio for Scipy Cal."
   ]
  },
  {
   "cell_type": "code",
   "execution_count": 16,
   "id": "d3325e10-c78f-4342-8736-05db204ad5be",
   "metadata": {},
   "outputs": [],
   "source": [
    "def neg_sharpe_ratio (weights, log_returns, cov_matrix, risk_free_rate):\n",
    "    return -sharpe_ratio(weights, log_returns, cov_matrix, risk_free_rate)"
   ]
  },
  {
   "cell_type": "markdown",
   "id": "96d45871-feec-4d8b-9aac-3cd03c838168",
   "metadata": {},
   "source": [
    "Constraints & Bound Setting"
   ]
  },
  {
   "cell_type": "code",
   "execution_count": 17,
   "id": "362cce4e-2e7c-4143-abbd-3ea4a79a6348",
   "metadata": {},
   "outputs": [],
   "source": [
    "constraints = {'type':'eq','fun':lambda weights: np.sum(weights)-1}\n",
    "bounds = [(0,.4) for _ in range (len(tickers))]"
   ]
  },
  {
   "cell_type": "markdown",
   "id": "965310cd-b01c-4832-9753-c4e3a51096e0",
   "metadata": {},
   "source": [
    "Initial Weights"
   ]
  },
  {
   "cell_type": "code",
   "execution_count": 18,
   "id": "a2dfd763-18a5-4437-bcac-d2ca5a64fd3a",
   "metadata": {},
   "outputs": [
    {
     "name": "stdout",
     "output_type": "stream",
     "text": [
      "[0.2 0.2 0.2 0.2 0.2]\n"
     ]
    }
   ],
   "source": [
    "initial_weights = np.array([1/len(tickers)]*len(tickers))\n",
    "print(initial_weights)"
   ]
  },
  {
   "cell_type": "markdown",
   "id": "73cd6873-7346-4207-bbbf-cc47b1cbb564",
   "metadata": {},
   "source": [
    "Optimize the weights to maximize the Sharpe Ratio"
   ]
  },
  {
   "cell_type": "code",
   "execution_count": 19,
   "id": "f12794ac-ae0f-4875-9987-c36ba851f5e6",
   "metadata": {},
   "outputs": [],
   "source": [
    "optimized_results = minimize(neg_sharpe_ratio,initial_weights, \n",
    "                             args=(log_returns, cov_matrix,risk_free_rate), method='SLSQP',\n",
    "                             constraints = constraints, bounds = bounds)"
   ]
  },
  {
   "cell_type": "code",
   "execution_count": 20,
   "id": "163be402-4b62-47b3-9dc1-68b64dbde8b2",
   "metadata": {},
   "outputs": [],
   "source": [
    "optimal_weights = optimized_results.x"
   ]
  },
  {
   "cell_type": "markdown",
   "id": "3e25f490-cea8-43ab-890c-52c05bcfa650",
   "metadata": {},
   "source": [
    "Analyze the Optimal Portfolio"
   ]
  },
  {
   "cell_type": "code",
   "execution_count": 21,
   "id": "60deb358-c54d-409b-8b3c-8711b992d86c",
   "metadata": {},
   "outputs": [
    {
     "name": "stdout",
     "output_type": "stream",
     "text": [
      "Optimal Weights:\n",
      "ZOMATO.NS: 0.0000%\n",
      "BHARTIARTL.NS: 33.4418%\n",
      "PAYTM.NS: 40.0000%\n",
      "SWIGGY.NS: 7.9428%\n",
      "NYKAA.NS: 18.6154%\n",
      "\n",
      "\n",
      "Expected Annual Return: 86.8192%\n",
      "Expected Volatility: 18.2793%\n",
      "Sharpe Ratio: 4.3667\n"
     ]
    }
   ],
   "source": [
    "print(\"Optimal Weights:\")\n",
    "for ticker, weight in zip(tickers, optimal_weights):\n",
    "    print(f\"{ticker}: {weight*100:.4f}%\")\n",
    "    \n",
    "print('\\n')\n",
    "\n",
    "optimal_portfolio_return = expected_return(optimal_weights, log_returns)\n",
    "optimal_portfolio_volatility = standard_deviation(optimal_weights, cov_matrix)\n",
    "optimal_sharpe_ratio = sharpe_ratio(optimal_weights, log_returns, cov_matrix, risk_free_rate)\n",
    "\n",
    "print(f\"Expected Annual Return: {optimal_portfolio_return*100:.4f}%\")\n",
    "print(f\"Expected Volatility: {optimal_portfolio_volatility*100:.4f}%\")\n",
    "print(f\"Sharpe Ratio: {optimal_sharpe_ratio:.4f}\")"
   ]
  },
  {
   "cell_type": "code",
   "execution_count": 22,
   "id": "0790acde-c5b1-4d67-a5cc-2730537d0ab3",
   "metadata": {
    "jp-MarkdownHeadingCollapsed": true
   },
   "outputs": [
    {
     "data": {
      "image/png": "[encoded data removed]",
      "text/plain": [
       "<Figure size 1200x500 with 1 Axes>"
      ]
     },
     "metadata": {},
     "output_type": "display_data"
    }
   ],
   "source": [
    "import matplotlib.pyplot as plt\n",
    "\n",
    "plt.figure(figsize=(12,5))\n",
    "plt.bar(tickers, optimal_weights)\n",
    "\n",
    "plt.xlabel('Assets')\n",
    "plt.ylabel('Optimal Weights')\n",
    "plt.title('Optimal Portfolio Weights')\n",
    "\n",
    "plt.show()"
   ]
  }
 ],
 "metadata": {
  "kernelspec": {
   "display_name": "Python 3 (ipykernel)",
   "language": "python",
   "name": "python3"
  },
  "language_info": {
   "codemirror_mode": {
    "name": "ipython",
    "version": 3
   },
   "file_extension": ".py",
   "mimetype": "text/x-python",
   "name": "python",
   "nbconvert_exporter": "python",
   "pygments_lexer": "ipython3",
   "version": "3.12.2"
  }
 },
 "nbformat": 4,
 "nbformat_minor": 5
}
